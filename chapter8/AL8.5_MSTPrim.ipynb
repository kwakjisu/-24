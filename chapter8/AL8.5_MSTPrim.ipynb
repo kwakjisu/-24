{
 "cells": [
  {
   "cell_type": "markdown",
   "metadata": {},
   "source": [
    "# 알고리즘 8.5  \n",
    "-Dijkatra의 최단경로 알고리즘-"
   ]
  },
  {
   "cell_type": "markdown",
   "metadata": {},
   "source": [
    "### 1.1 문제 정의"
   ]
  },
  {
   "cell_type": "markdown",
   "metadata": {},
   "source": [
    "가중치 그래프 G=(V, E)가 주어졌다. G의 모든 신장트리 중에서 간선들의 가중치 합이 최소인 신장트리를 찾아라."
   ]
  },
  {
   "cell_type": "markdown",
   "metadata": {},
   "source": [
    "### 1.2 알고리즘 설명"
   ]
  },
  {
   "cell_type": "markdown",
   "metadata": {},
   "source": []
  },
  {
   "cell_type": "markdown",
   "metadata": {},
   "source": [
    "### 1.3 손으로 푼 예제"
   ]
  },
  {
   "cell_type": "markdown",
   "metadata": {},
   "source": [
    "### 1.4 코드 설명"
   ]
  },
  {
   "cell_type": "markdown",
   "metadata": {},
   "source": [
    "### 1.5 알고리즘 코드"
   ]
  },
  {
   "cell_type": "code",
   "execution_count": 1,
   "metadata": {},
   "outputs": [],
   "source": [
    "def getMinVertex(dist, selected):\n",
    "    minv = -1\n",
    "    mindist = INF\n",
    "    for v in range(len(dist)):\n",
    "        if not selected[v] and dist[v]<mindist:\n",
    "            mindist = dist[v]\n",
    "            minv = v\n",
    "    return minv\n",
    "\n",
    "def MSTPrim(vertex, adj):\n",
    "    vsize = len(vertex)\n",
    "    dist = [INF]*vsize\n",
    "    dist[0] = 0\n",
    "    selected = [False]*vsize\n",
    "    \n",
    "    for i in range(vsize):\n",
    "        u=getMinVertex(dist, selected)\n",
    "        selected[u] = True\n",
    "        print(vertex[u], end=':')\n",
    "        print(dist)\n",
    "        \n",
    "        for v in range(vsize):\n",
    "            if(adj[u][v] != None):\n",
    "                if selected[v]==False and adj[u][v]< dist[v]:\n",
    "                    dist[v] = adj[u][v]"
   ]
  },
  {
   "cell_type": "markdown",
   "metadata": {},
   "source": [
    "### 1.6 테스트 코드"
   ]
  },
  {
   "cell_type": "code",
   "execution_count": 5,
   "metadata": {},
   "outputs": [
    {
     "name": "stdout",
     "output_type": "stream",
     "text": [
      "MST By Prim's Algorithm\n",
      "A:[0, inf, inf, inf, inf, inf, inf]\n",
      "F:[0, 29, inf, inf, inf, 10, inf]\n",
      "E:[0, 29, inf, inf, 27, 10, inf]\n",
      "D:[0, 29, inf, 22, 27, 10, 25]\n",
      "C:[0, 29, 12, 22, 27, 10, 18]\n",
      "B:[0, 16, 12, 22, 27, 10, 18]\n",
      "G:[0, 16, 12, 22, 27, 10, 15]\n"
     ]
    }
   ],
   "source": [
    "INF= float('inf')\n",
    "vertex=['A', 'B', 'C', 'D', 'E', 'F', 'G']\n",
    "weight=[[None, 29, None, None, None, 10, None],\n",
    "        [29, None, 16, None, None, None, 15],\n",
    "        [None, 16, None, 12, None, None, None],\n",
    "        [None, None, 12, None, 22, None, 18],\n",
    "        [None, None, None, 22, None, 27, 25],\n",
    "        [10, None, None, None, 27, None, None],\n",
    "        [None, 15, None, 18, 25, None, None]]\n",
    "print(\"MST By Prim's Algorithm\")\n",
    "MSTPrim(vertex, weight)"
   ]
  },
  {
   "cell_type": "markdown",
   "metadata": {},
   "source": [
    "### 1.7 수행결과"
   ]
  },
  {
   "cell_type": "markdown",
   "metadata": {},
   "source": [
    "### 1.8 복잡도 분석"
   ]
  }
 ],
 "metadata": {
  "kernelspec": {
   "display_name": "Python 3",
   "language": "python",
   "name": "python3"
  },
  "language_info": {
   "codemirror_mode": {
    "name": "ipython",
    "version": 3
   },
   "file_extension": ".py",
   "mimetype": "text/x-python",
   "name": "python",
   "nbconvert_exporter": "python",
   "pygments_lexer": "ipython3",
   "version": "3.12.0"
  }
 },
 "nbformat": 4,
 "nbformat_minor": 2
}
