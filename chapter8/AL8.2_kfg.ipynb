{
 "cells": [
  {
   "cell_type": "markdown",
   "metadata": {},
   "source": [
    "# 알고리즘 8.2  \n",
    "-거스름돈 최소화 알고리즘-"
   ]
  },
  {
   "cell_type": "markdown",
   "metadata": {},
   "source": [
    "### 1.1 문제 정의"
   ]
  },
  {
   "cell_type": "markdown",
   "metadata": {},
   "source": []
  },
  {
   "cell_type": "markdown",
   "metadata": {},
   "source": [
    "### 1.2 알고리즘 설명"
   ]
  },
  {
   "cell_type": "markdown",
   "metadata": {},
   "source": [
    "1. 무게와 상관없이 가장 비싼 물건부터 넣어보는 방법\n",
    "2. 단위 무게당 가격이 가장 높은 뭏건부터 넣어보는 방법\n",
    "3. 가장 가벼운 물건부터 넣어보는 방법"
   ]
  },
  {
   "cell_type": "markdown",
   "metadata": {},
   "source": [
    "### 1.3 손으로 푼 예제"
   ]
  },
  {
   "cell_type": "markdown",
   "metadata": {},
   "source": [
    "### 1.4 코드 설명"
   ]
  },
  {
   "cell_type": "markdown",
   "metadata": {},
   "source": [
    "### 1.5 알고리즘 코드"
   ]
  },
  {
   "cell_type": "code",
   "execution_count": 7,
   "metadata": {},
   "outputs": [],
   "source": [
    "def knapSack_factorial_greedy(obj, W):\n",
    "    obj.sort(key=lambda o: o[2]/o[1], reverse=True)\n",
    "    \n",
    "    totalValue = 0\n",
    "    for o in obj:\n",
    "        if W<=0: break\n",
    "        if W - o[1]>=0:\n",
    "            W -=o[1]\n",
    "            totalValue += o[2]\n",
    "        else:\n",
    "            fraction=W/o[1]\n",
    "            totalValue += o[2]*fraction\n",
    "            W=int(W-(o[1]*fraction))\n",
    "            \n",
    "    return totalValue"
   ]
  },
  {
   "cell_type": "markdown",
   "metadata": {},
   "source": [
    "### 1.6 테스트 코드"
   ]
  },
  {
   "cell_type": "code",
   "execution_count": 8,
   "metadata": {},
   "outputs": [
    {
     "name": "stdout",
     "output_type": "stream",
     "text": [
      "W=18  [('A', 10, 80), ('B', 12, 120), ('C', 8, 60)]\n",
      "부분적인배낭(18):  168.0\n",
      "\n",
      "W=50  [('A', 10, 60), ('B', 40, 40), ('C', 20, 100), ('D', 30, 120)]\n",
      "부분적인배낭(50):  240.0\n"
     ]
    }
   ],
   "source": [
    "obj = [(\"A\", 10, 80), (\"B\", 12, 120), (\"C\", 8, 60)]\n",
    "print(\"W=18 \", obj)\n",
    "print(\"부분적인배낭(18): \", knapSack_factorial_greedy(obj, 18), end='\\n\\n')\n",
    "\n",
    "obj = [(\"A\", 10, 60), (\"B\", 40, 40), (\"C\", 20, 100), (\"D\", 30, 120)]\n",
    "print(\"W=50 \", obj)\n",
    "print(\"부분적인배낭(50): \", knapSack_factorial_greedy(obj, 50))"
   ]
  },
  {
   "cell_type": "markdown",
   "metadata": {},
   "source": [
    "### 1.7 수행결과"
   ]
  },
  {
   "cell_type": "markdown",
   "metadata": {},
   "source": [
    "### 1.8 복잡도 분석"
   ]
  }
 ],
 "metadata": {
  "kernelspec": {
   "display_name": "Python 3",
   "language": "python",
   "name": "python3"
  },
  "language_info": {
   "codemirror_mode": {
    "name": "ipython",
    "version": 3
   },
   "file_extension": ".py",
   "mimetype": "text/x-python",
   "name": "python",
   "nbconvert_exporter": "python",
   "pygments_lexer": "ipython3",
   "version": "3.12.0"
  }
 },
 "nbformat": 4,
 "nbformat_minor": 2
}
