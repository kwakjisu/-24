{
 "cells": [
  {
   "cell_type": "markdown",
   "metadata": {},
   "source": [
    "# 알고리즘 8.5  \n",
    "-Dijkatra의 최단경로 알고리즘-"
   ]
  },
  {
   "cell_type": "markdown",
   "metadata": {},
   "source": [
    "### 1.1 문제 정의"
   ]
  },
  {
   "cell_type": "markdown",
   "metadata": {},
   "source": [
    "가중치 그래프 G=(V, E)가 주어졌다. G의 모든 신장트리 중에서 간선들의 가중치 합이 최소인 신장트리를 찾아라."
   ]
  },
  {
   "cell_type": "markdown",
   "metadata": {},
   "source": [
    "### 1.2 알고리즘 설명"
   ]
  },
  {
   "cell_type": "markdown",
   "metadata": {},
   "source": []
  },
  {
   "cell_type": "markdown",
   "metadata": {},
   "source": [
    "### 1.3 손으로 푼 예제"
   ]
  },
  {
   "cell_type": "markdown",
   "metadata": {},
   "source": [
    "### 1.4 코드 설명"
   ]
  },
  {
   "cell_type": "markdown",
   "metadata": {},
   "source": [
    "### 1.5 알고리즘 코드"
   ]
  },
  {
   "cell_type": "code",
   "execution_count": 1,
   "metadata": {},
   "outputs": [],
   "source": [
    "def getMinVertex(dist, selected):\n",
    "    minv = -1\n",
    "    mindist = INF\n",
    "    for v in range(len(dist)):\n",
    "        if not selected[v] and dist[v]<mindist:\n",
    "            mindist = dist[v]\n",
    "            minv = v\n",
    "    return minv\n",
    "\n",
    "def MSTPrim(vertex, adj):\n",
    "    vsize = len(vertex)\n",
    "    dist = [INF]*vsize\n",
    "    dist[0] = 0\n",
    "    selected = [False]*vsize\n",
    "    \n",
    "    for i in range(vsize):\n",
    "        u=getMinVertex(dist, selected)\n",
    "        selected[u] = True\n",
    "        print(vertex[u], end=':')\n",
    "        print(dist)\n",
    "        \n",
    "        for v in range(vsize):\n",
    "            if(adj[u][v] != None):\n",
    "                if selected[v]==False and adj[u][v]< dist[v]:\n",
    "                    dist[v] = adj[u][v]"
   ]
  },
  {
   "cell_type": "markdown",
   "metadata": {},
   "source": [
    "### 1.6 테스트 코드"
   ]
  },
  {
   "cell_type": "code",
   "execution_count": 2,
   "metadata": {},
   "outputs": [
    {
     "name": "stdout",
     "output_type": "stream",
     "text": [
      "MST By Prim's Algorithm\n",
      "A:[0, inf, inf, inf, inf, inf, inf]\n",
      "F:[0, 29, inf, inf, inf, 10, inf]\n",
      "E:[0, 29, inf, inf, 27, 10, inf]\n",
      "D:[0, 29, inf, 22, 27, 10, 25]\n",
      "C:[0, 29, 12, 22, 27, 10, 18]\n"
     ]
    },
    {
     "ename": "IndexError",
     "evalue": "list index out of range",
     "output_type": "error",
     "traceback": [
      "\u001b[1;31m---------------------------------------------------------------------------\u001b[0m",
      "\u001b[1;31mIndexError\u001b[0m                                Traceback (most recent call last)",
      "Cell \u001b[1;32mIn[2], line 5\u001b[0m\n\u001b[0;32m      3\u001b[0m adj\u001b[38;5;241m=\u001b[39m[[\u001b[38;5;28;01mNone\u001b[39;00m, \u001b[38;5;241m29\u001b[39m, \u001b[38;5;28;01mNone\u001b[39;00m, \u001b[38;5;28;01mNone\u001b[39;00m, \u001b[38;5;28;01mNone\u001b[39;00m, \u001b[38;5;241m10\u001b[39m, \u001b[38;5;28;01mNone\u001b[39;00m], [\u001b[38;5;241m29\u001b[39m, \u001b[38;5;28;01mNone\u001b[39;00m, \u001b[38;5;241m16\u001b[39m, \u001b[38;5;28;01mNone\u001b[39;00m, \u001b[38;5;28;01mNone\u001b[39;00m, \u001b[38;5;28;01mNone\u001b[39;00m, \u001b[38;5;241m15\u001b[39m], [\u001b[38;5;28;01mNone\u001b[39;00m, \u001b[38;5;241m16\u001b[39m, \u001b[38;5;28;01mNone\u001b[39;00m, \u001b[38;5;241m12\u001b[39m, \u001b[38;5;28;01mNone\u001b[39;00m, \u001b[38;5;28;01mNone\u001b[39;00m], [\u001b[38;5;28;01mNone\u001b[39;00m, \u001b[38;5;28;01mNone\u001b[39;00m, \u001b[38;5;241m12\u001b[39m, \u001b[38;5;28;01mNone\u001b[39;00m, \u001b[38;5;241m22\u001b[39m, \u001b[38;5;28;01mNone\u001b[39;00m, \u001b[38;5;241m18\u001b[39m], [\u001b[38;5;28;01mNone\u001b[39;00m, \u001b[38;5;28;01mNone\u001b[39;00m, \u001b[38;5;28;01mNone\u001b[39;00m, \u001b[38;5;241m22\u001b[39m, \u001b[38;5;28;01mNone\u001b[39;00m, \u001b[38;5;241m27\u001b[39m, \u001b[38;5;241m25\u001b[39m], [\u001b[38;5;241m10\u001b[39m, \u001b[38;5;28;01mNone\u001b[39;00m, \u001b[38;5;28;01mNone\u001b[39;00m, \u001b[38;5;28;01mNone\u001b[39;00m, \u001b[38;5;241m27\u001b[39m, \u001b[38;5;28;01mNone\u001b[39;00m, \u001b[38;5;28;01mNone\u001b[39;00m], [\u001b[38;5;28;01mNone\u001b[39;00m, \u001b[38;5;241m15\u001b[39m, \u001b[38;5;28;01mNone\u001b[39;00m, \u001b[38;5;241m18\u001b[39m, \u001b[38;5;241m25\u001b[39m, \u001b[38;5;28;01mNone\u001b[39;00m, \u001b[38;5;28;01mNone\u001b[39;00m]]\n\u001b[0;32m      4\u001b[0m \u001b[38;5;28mprint\u001b[39m(\u001b[38;5;124m\"\u001b[39m\u001b[38;5;124mMST By Prim\u001b[39m\u001b[38;5;124m'\u001b[39m\u001b[38;5;124ms Algorithm\u001b[39m\u001b[38;5;124m\"\u001b[39m)\n\u001b[1;32m----> 5\u001b[0m \u001b[43mMSTPrim\u001b[49m\u001b[43m(\u001b[49m\u001b[43mvertex\u001b[49m\u001b[43m,\u001b[49m\u001b[43m \u001b[49m\u001b[43madj\u001b[49m\u001b[43m)\u001b[49m\n",
      "Cell \u001b[1;32mIn[1], line 23\u001b[0m, in \u001b[0;36mMSTPrim\u001b[1;34m(vertex, adj)\u001b[0m\n\u001b[0;32m     20\u001b[0m \u001b[38;5;28mprint\u001b[39m(dist)\n\u001b[0;32m     22\u001b[0m \u001b[38;5;28;01mfor\u001b[39;00m v \u001b[38;5;129;01min\u001b[39;00m \u001b[38;5;28mrange\u001b[39m(vsize):\n\u001b[1;32m---> 23\u001b[0m     \u001b[38;5;28;01mif\u001b[39;00m(\u001b[43madj\u001b[49m\u001b[43m[\u001b[49m\u001b[43mu\u001b[49m\u001b[43m]\u001b[49m\u001b[43m[\u001b[49m\u001b[43mv\u001b[49m\u001b[43m]\u001b[49m \u001b[38;5;241m!=\u001b[39m \u001b[38;5;28;01mNone\u001b[39;00m):\n\u001b[0;32m     24\u001b[0m         \u001b[38;5;28;01mif\u001b[39;00m selected[v]\u001b[38;5;241m==\u001b[39m\u001b[38;5;28;01mFalse\u001b[39;00m \u001b[38;5;129;01mand\u001b[39;00m adj[u][v]\u001b[38;5;241m<\u001b[39m dist[v]:\n\u001b[0;32m     25\u001b[0m             dist[v] \u001b[38;5;241m=\u001b[39m adj[u][v]\n",
      "\u001b[1;31mIndexError\u001b[0m: list index out of range"
     ]
    }
   ],
   "source": [
    "INF= float('inf')\n",
    "vertex=['A', 'B', 'C', 'D', 'E', 'F', 'G']\n",
    "adj=[[None, 29, None, None, None, 10, None], [29, None, 16, None, None, None, 15], [None, 16, None, 12, None, None], [None, None, 12, None, 22, None, 18], [None, None, None, 22, None, 27, 25], [10, None, None, None, 27, None, None], [None, 15, None, 18, 25, None, None]]\n",
    "print(\"MST By Prim's Algorithm\")\n",
    "MSTPrim(vertex, adj)"
   ]
  },
  {
   "cell_type": "markdown",
   "metadata": {},
   "source": [
    "### 1.7 수행결과"
   ]
  },
  {
   "cell_type": "markdown",
   "metadata": {},
   "source": [
    "### 1.8 복잡도 분석"
   ]
  }
 ],
 "metadata": {
  "kernelspec": {
   "display_name": "Python 3",
   "language": "python",
   "name": "python3"
  },
  "language_info": {
   "codemirror_mode": {
    "name": "ipython",
    "version": 3
   },
   "file_extension": ".py",
   "mimetype": "text/x-python",
   "name": "python",
   "nbconvert_exporter": "python",
   "pygments_lexer": "ipython3",
   "version": "3.12.0"
  }
 },
 "nbformat": 4,
 "nbformat_minor": 2
}
