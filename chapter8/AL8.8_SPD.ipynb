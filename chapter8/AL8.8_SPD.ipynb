{
 "cells": [
  {
   "cell_type": "markdown",
   "metadata": {},
   "source": [
    "# 알고리즘 8.8  \n",
    "-Dijkatra의 최단경로 알고리즘-"
   ]
  },
  {
   "cell_type": "markdown",
   "metadata": {},
   "source": [
    "### 1.1 문제 정의"
   ]
  },
  {
   "cell_type": "markdown",
   "metadata": {},
   "source": [
    "가중치 그래프 G=(V, E)가 주어졌다. G의 모든 신장트리 중에서 간선들의 가중치 합이 최소인 신장트리를 찾아라."
   ]
  },
  {
   "cell_type": "markdown",
   "metadata": {},
   "source": [
    "### 1.2 알고리즘 설명"
   ]
  },
  {
   "cell_type": "markdown",
   "metadata": {},
   "source": []
  },
  {
   "cell_type": "markdown",
   "metadata": {},
   "source": [
    "### 1.3 손으로 푼 예제"
   ]
  },
  {
   "cell_type": "markdown",
   "metadata": {},
   "source": [
    "### 1.4 코드 설명"
   ]
  },
  {
   "cell_type": "markdown",
   "metadata": {},
   "source": [
    "### 1.5 알고리즘 코드"
   ]
  },
  {
   "cell_type": "code",
   "execution_count": 10,
   "metadata": {},
   "outputs": [],
   "source": [
    "def getMinVertex(dist, found):\n",
    "    minv = -1\n",
    "    mindist = INF\n",
    "    for v in range(len(dist)):\n",
    "        if not found[v] and dist[v]<mindist:\n",
    "            mindist = dist[v]\n",
    "            minv = v\n",
    "    return minv\n",
    "\n",
    "def shortest_path_dijkstra(vtx, adj, start):\n",
    "    vsize=len(vtx)\n",
    "    dist=list(adj[start])\n",
    "    dist[start]=0\n",
    "    path=[start]*vsize\n",
    "    found=[False]*vsize\n",
    "    found[start]=True\n",
    "    \n",
    "    for i in range(vsize):\n",
    "        print(\"step%2d: \"%(i+1), dist)\n",
    "        u=getMinVertex(dist, found)\n",
    "        found[u]=True\n",
    "        for w in range(vsize):\n",
    "            if not found[w]:\n",
    "                if dist[u]+adj[u][w]<dist[w]:\n",
    "                    dist[w]=dist[u]+sdj[u][w]\n",
    "                    path[w]=u\n",
    "                    \n",
    "    return path\n",
    "        "
   ]
  },
  {
   "cell_type": "markdown",
   "metadata": {},
   "source": [
    "### 1.6 테스트 코드"
   ]
  },
  {
   "cell_type": "code",
   "execution_count": 11,
   "metadata": {},
   "outputs": [
    {
     "name": "stdout",
     "output_type": "stream",
     "text": [
      "Shortest Path By Dijkstra Algorithm\n",
      "step 1:  [0, 29, None, None, 3, 10, None]\n"
     ]
    },
    {
     "ename": "TypeError",
     "evalue": "'<' not supported between instances of 'NoneType' and 'int'",
     "output_type": "error",
     "traceback": [
      "\u001b[1;31m---------------------------------------------------------------------------\u001b[0m",
      "\u001b[1;31mTypeError\u001b[0m                                 Traceback (most recent call last)",
      "Cell \u001b[1;32mIn[11], line 12\u001b[0m\n\u001b[0;32m     10\u001b[0m \u001b[38;5;28mprint\u001b[39m(\u001b[38;5;124m\"\u001b[39m\u001b[38;5;124mShortest Path By Dijkstra Algorithm\u001b[39m\u001b[38;5;124m\"\u001b[39m)\n\u001b[0;32m     11\u001b[0m start\u001b[38;5;241m=\u001b[39m\u001b[38;5;241m0\u001b[39m\n\u001b[1;32m---> 12\u001b[0m path\u001b[38;5;241m=\u001b[39m\u001b[43mshortest_path_dijkstra\u001b[49m\u001b[43m(\u001b[49m\u001b[43mvertex\u001b[49m\u001b[43m,\u001b[49m\u001b[43m \u001b[49m\u001b[43mweight\u001b[49m\u001b[43m,\u001b[49m\u001b[43m \u001b[49m\u001b[43mstart\u001b[49m\u001b[43m)\u001b[49m\n\u001b[0;32m     14\u001b[0m \u001b[38;5;28;01mfor\u001b[39;00m end \u001b[38;5;129;01min\u001b[39;00m \u001b[38;5;28mrange\u001b[39m(\u001b[38;5;28mlen\u001b[39m(vertex)):\n\u001b[0;32m     15\u001b[0m         \u001b[38;5;28;01mif\u001b[39;00m end\u001b[38;5;241m!=\u001b[39mstart:\n",
      "Cell \u001b[1;32mIn[10], line 20\u001b[0m, in \u001b[0;36mshortest_path_dijkstra\u001b[1;34m(vtx, adj, start)\u001b[0m\n\u001b[0;32m     18\u001b[0m \u001b[38;5;28;01mfor\u001b[39;00m i \u001b[38;5;129;01min\u001b[39;00m \u001b[38;5;28mrange\u001b[39m(vsize):\n\u001b[0;32m     19\u001b[0m     \u001b[38;5;28mprint\u001b[39m(\u001b[38;5;124m\"\u001b[39m\u001b[38;5;124mstep\u001b[39m\u001b[38;5;132;01m%2d\u001b[39;00m\u001b[38;5;124m: \u001b[39m\u001b[38;5;124m\"\u001b[39m\u001b[38;5;241m%\u001b[39m(i\u001b[38;5;241m+\u001b[39m\u001b[38;5;241m1\u001b[39m), dist)\n\u001b[1;32m---> 20\u001b[0m     u\u001b[38;5;241m=\u001b[39m\u001b[43mgetMinVertex\u001b[49m\u001b[43m(\u001b[49m\u001b[43mdist\u001b[49m\u001b[43m,\u001b[49m\u001b[43m \u001b[49m\u001b[43mfound\u001b[49m\u001b[43m)\u001b[49m\n\u001b[0;32m     21\u001b[0m     found[u]\u001b[38;5;241m=\u001b[39m\u001b[38;5;28;01mTrue\u001b[39;00m\n\u001b[0;32m     22\u001b[0m     \u001b[38;5;28;01mfor\u001b[39;00m w \u001b[38;5;129;01min\u001b[39;00m \u001b[38;5;28mrange\u001b[39m(vsize):\n",
      "Cell \u001b[1;32mIn[10], line 5\u001b[0m, in \u001b[0;36mgetMinVertex\u001b[1;34m(dist, found)\u001b[0m\n\u001b[0;32m      3\u001b[0m mindist \u001b[38;5;241m=\u001b[39m INF\n\u001b[0;32m      4\u001b[0m \u001b[38;5;28;01mfor\u001b[39;00m v \u001b[38;5;129;01min\u001b[39;00m \u001b[38;5;28mrange\u001b[39m(\u001b[38;5;28mlen\u001b[39m(dist)):\n\u001b[1;32m----> 5\u001b[0m     \u001b[38;5;28;01mif\u001b[39;00m \u001b[38;5;129;01mnot\u001b[39;00m found[v] \u001b[38;5;129;01mand\u001b[39;00m \u001b[43mdist\u001b[49m\u001b[43m[\u001b[49m\u001b[43mv\u001b[49m\u001b[43m]\u001b[49m\u001b[38;5;241;43m<\u001b[39;49m\u001b[43mmindist\u001b[49m:\n\u001b[0;32m      6\u001b[0m         mindist \u001b[38;5;241m=\u001b[39m dist[v]\n\u001b[0;32m      7\u001b[0m         minv \u001b[38;5;241m=\u001b[39m v\n",
      "\u001b[1;31mTypeError\u001b[0m: '<' not supported between instances of 'NoneType' and 'int'"
     ]
    }
   ],
   "source": [
    "INF= float('inf')\n",
    "vertex=['A', 'B', 'C', 'D', 'E', 'F', 'G']\n",
    "weight=[[None, 29, None, None, 3, 10, None],\n",
    "        [7, None, 4, None, 2, 6, None],\n",
    "        [None, 4, None, 2, None, None, None],\n",
    "        [None, None, 12, None, 22, None, 18],\n",
    "        [3, 2, None, 11, None, None, 5],\n",
    "        [10, 6, None, 9, None, None, None],\n",
    "        [None, None, None, 4, 5, None, None]]\n",
    "print(\"Shortest Path By Dijkstra Algorithm\")\n",
    "start=0\n",
    "path=shortest_path_dijkstra(vertex, weight, start)\n",
    "\n",
    "for end in range(len(vertex)):\n",
    "        if end!=start:\n",
    "                print(\"[최단경로: %s->%s] %s\" %(vertex[start], vertex[end], vertex[end]), end='')\n",
    "                while (path[end]!=start):\n",
    "                        print(\"<-%s\" %vertex[path[end]], end='')\n",
    "                        end=path[end]\n",
    "                print(\"<- %s\" %vertex[path[end]])\n"
   ]
  },
  {
   "cell_type": "markdown",
   "metadata": {},
   "source": [
    "### 1.7 수행결과"
   ]
  },
  {
   "cell_type": "markdown",
   "metadata": {},
   "source": [
    "### 1.8 복잡도 분석"
   ]
  }
 ],
 "metadata": {
  "kernelspec": {
   "display_name": "Python 3",
   "language": "python",
   "name": "python3"
  },
  "language_info": {
   "codemirror_mode": {
    "name": "ipython",
    "version": 3
   },
   "file_extension": ".py",
   "mimetype": "text/x-python",
   "name": "python",
   "nbconvert_exporter": "python",
   "pygments_lexer": "ipython3",
   "version": "3.12.0"
  }
 },
 "nbformat": 4,
 "nbformat_minor": 2
}
