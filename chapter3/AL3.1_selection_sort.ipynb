{
 "cells": [
  {
   "cell_type": "markdown",
   "metadata": {},
   "source": [
    "예제 3.1\n",
    "======="
   ]
  },
  {
   "cell_type": "markdown",
   "metadata": {},
   "source": [
    "### 1.1 문제 정의\n",
    "\n",
    "- 리스트 n개의 항목들이 들어 있다. 이들을 키(key)의 순서에 따라 오름차순(non-decreasing order)으로 재배치하라."
   ]
  },
  {
   "cell_type": "markdown",
   "metadata": {},
   "source": [
    "### 1.2 알고리즘 설명\n",
    "- 제자리 정렬로 개선된 정렬 알고리즘이다. 내부 루프의 최소 항목을 찾는 범위 (i+1~n-1)와 리스트 두 항목을 서로 교환하며 오름차순으로 정리한다. "
   ]
  },
  {
   "cell_type": "markdown",
   "metadata": {},
   "source": [
    "### 1.3 손으로 푼 예제\n"
   ]
  },
  {
   "cell_type": "markdown",
   "metadata": {},
   "source": [
    "### 1.4 알고리즘 개요"
   ]
  },
  {
   "cell_type": "markdown",
   "metadata": {},
   "source": [
    "* 입력 변수: 정렬되지 않는 리스트 A\n",
    "* 출력 변수: 정렬된 리스트\n",
    "* 함수 설명: 'selection_sort(A)'\n",
    "1. 정렬되지 않는 리스트를 입력받는다.\n",
    "2. 각 리스트의 항목을 서로 비교하여 배열항목을 서로 교환한다. \n",
    "3. 각 단계를 출력하는 중간 과정 출력용 함수를 사용하여 리스트의 내용을 출력한다.\n",
    "4. 최초의 리스트와 정렬된 리스트를 출력한다."
   ]
  },
  {
   "cell_type": "markdown",
   "metadata": {},
   "source": [
    "### 1.5 알고리즘 코드"
   ]
  },
  {
   "cell_type": "code",
   "execution_count": 20,
   "metadata": {},
   "outputs": [],
   "source": [
    "def printStep(arr,val):\n",
    "    print(\" Step %2d = \" %val, end='')\n",
    "    print(arr)\n",
    "    \n",
    "def selection_sort(A):\n",
    "    n = len(A)\n",
    "    for i in range(n-1):\n",
    "        least = i\n",
    "        for j in range(i+1,n):\n",
    "            if(A[j]<A[least]):\n",
    "                least = j\n",
    "        A[i], A[least] = A[least], A[i]\n",
    "        printStep(A,i+1)"
   ]
  },
  {
   "cell_type": "markdown",
   "metadata": {},
   "source": [
    "### 1.6 테스트 코드"
   ]
  },
  {
   "cell_type": "code",
   "execution_count": 21,
   "metadata": {},
   "outputs": [
    {
     "name": "stdout",
     "output_type": "stream",
     "text": [
      "Original : [5, 3, 8, 4, 9, 1, 6, 2, 7]\n",
      " Step  1 = [1, 3, 8, 4, 9, 5, 6, 2, 7]\n",
      " Step  2 = [1, 2, 8, 4, 9, 5, 6, 3, 7]\n",
      " Step  3 = [1, 2, 3, 4, 9, 5, 6, 8, 7]\n",
      " Step  4 = [1, 2, 3, 4, 9, 5, 6, 8, 7]\n",
      " Step  5 = [1, 2, 3, 4, 5, 9, 6, 8, 7]\n",
      " Step  6 = [1, 2, 3, 4, 5, 6, 9, 8, 7]\n",
      " Step  7 = [1, 2, 3, 4, 5, 6, 7, 8, 9]\n",
      " Step  8 = [1, 2, 3, 4, 5, 6, 7, 8, 9]\n",
      "Selection:  [1, 2, 3, 4, 5, 6, 7, 8, 9]\n"
     ]
    }
   ],
   "source": [
    "data = [5,3,8,4,9,1,6,2,7]\n",
    "print(\"Original :\",data)\n",
    "selection_sort(data)\n",
    "print(\"Selection: \",data)"
   ]
  },
  {
   "cell_type": "markdown",
   "metadata": {},
   "source": [
    "### 1.7 수행결과"
   ]
  },
  {
   "cell_type": "markdown",
   "metadata": {},
   "source": [
    "### 1.8 복잡도 분석\n",
    "\n"
   ]
  },
  {
   "cell_type": "markdown",
   "metadata": {},
   "source": [
    "### 1.9 "
   ]
  }
 ],
 "metadata": {
  "kernelspec": {
   "display_name": "Python 3",
   "language": "python",
   "name": "python3"
  },
  "language_info": {
   "codemirror_mode": {
    "name": "ipython",
    "version": 3
   },
   "file_extension": ".py",
   "mimetype": "text/x-python",
   "name": "python",
   "nbconvert_exporter": "python",
   "pygments_lexer": "ipython3",
   "version": "3.12.2"
  }
 },
 "nbformat": 4,
 "nbformat_minor": 2
}
