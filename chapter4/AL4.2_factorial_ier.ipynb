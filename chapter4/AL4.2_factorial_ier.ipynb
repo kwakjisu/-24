{
 "cells": [
  {
   "cell_type": "markdown",
   "metadata": {},
   "source": [
    "예제 4.2\n",
    "======"
   ]
  },
  {
   "cell_type": "markdown",
   "metadata": {},
   "source": [
    "-정렬된 리스트에서의 탐색 문제-"
   ]
  },
  {
   "cell_type": "markdown",
   "metadata": {},
   "source": [
    "### 1. 문제정의"
   ]
  },
  {
   "cell_type": "markdown",
   "metadata": {},
   "source": [
    "리스트에 n개의 항목이 들어있다. 이 리스트에서 \"탐색키\"를 가진 항목을 찾아라. 단, 리스트의 항목들은 정렬되어 있다."
   ]
  },
  {
   "cell_type": "markdown",
   "metadata": {},
   "source": [
    "### 2. 알고리즘 설명"
   ]
  },
  {
   "cell_type": "markdown",
   "metadata": {},
   "source": [
    "- 사용 전략: 축소 정복 탐색 전략\n",
    "1. 중앙에 있는 항목을 먼저 조사한다.\n",
    "2. 답이 있을 부분만 다시 탐색한다.\n",
    "\n",
    "- 알고리즘 특징\n",
    "1. 효율적이다.\n",
    "2. 반드시 리스트가 정렬되어 있어야 적용가능하다.\n",
    "3. 데이터의 삽입이나 삭제가 빈번한 응용에는 적합하지 않다."
   ]
  },
  {
   "cell_type": "markdown",
   "metadata": {},
   "source": [
    "### 3. 손으로 푼 예제"
   ]
  },
  {
   "cell_type": "markdown",
   "metadata": {},
   "source": [
    "### 4. 알고리즘 개요"
   ]
  },
  {
   "cell_type": "markdown",
   "metadata": {},
   "source": [
    "### 5. 코드"
   ]
  },
  {
   "cell_type": "code",
   "execution_count": 18,
   "metadata": {},
   "outputs": [],
   "source": [
    "def binary_search(A, key, low, high):\n",
    "    if (low<=high):\n",
    "        mid = (low+high)//2\n",
    "        if key==A[mid]:\n",
    "            return mid\n",
    "        elif key<A[mid]:\n",
    "            return binary_search(A, key, low, mid-1)\n",
    "        else:\n",
    "            return binary_search(A, key, mid+1, high)\n",
    "    return -1\n",
    "\n",
    "def binary_search_iter(A, key, low, high):\n",
    "    while(low<=high):\n",
    "        mid=(low+high)//2\n",
    "        if key==A[mid]:\n",
    "            return mid\n",
    "        elif key>A[mid]:\n",
    "            low=mid+1\n",
    "        else:\n",
    "            high = mid-1\n",
    "    return-1"
   ]
  },
  {
   "cell_type": "markdown",
   "metadata": {},
   "source": [
    "### 6. 테스트 코드"
   ]
  },
  {
   "cell_type": "code",
   "execution_count": 19,
   "metadata": {},
   "outputs": [
    {
     "name": "stdout",
     "output_type": "stream",
     "text": [
      "입력 리스트=  [1, 3, 5, 12, 13, 19, 23, 26, 27, 30, 31, 36, 37, 41, 43, 49]\n",
      "34 탐색(순환)-->  -1\n",
      "34 탐색(반복)-->  -1\n",
      "31 탐색(순환)-->  10\n",
      "31 탐색(반복)-->  10\n"
     ]
    }
   ],
   "source": [
    "listA=[1,3,5,12,13,19,23,26,27,30,31,36,37,41,43,49]\n",
    "print(\"입력 리스트= \", listA)\n",
    "print(\"34 탐색(순환)--> \", binary_search(listA,34,0,len(listA)-1))\n",
    "print(\"34 탐색(반복)--> \", binary_search_iter(listA,34,0,len(listA)-1))\n",
    "print(\"31 탐색(순환)--> \", binary_search(listA,31,0,len(listA)-1))\n",
    "print(\"31 탐색(반복)--> \", binary_search_iter(listA,31,0,len(listA)-1))"
   ]
  },
  {
   "cell_type": "markdown",
   "metadata": {},
   "source": [
    "### 7. 수행결과"
   ]
  },
  {
   "attachments": {
    "image.png": {
     "image/png": "[encoded data removed]"
    }
   },
   "cell_type": "markdown",
   "metadata": {},
   "source": [
    "![image.png](attachment:image.png)"
   ]
  },
  {
   "cell_type": "markdown",
   "metadata": {},
   "source": [
    "### 8. 복잡도 정의의"
   ]
  },
  {
   "cell_type": "markdown",
   "metadata": {},
   "source": [
    "### 9. 협력 내용"
   ]
  }
 ],
 "metadata": {
  "kernelspec": {
   "display_name": "Python 3",
   "language": "python",
   "name": "python3"
  },
  "language_info": {
   "codemirror_mode": {
    "name": "ipython",
    "version": 3
   },
   "file_extension": ".py",
   "mimetype": "text/x-python",
   "name": "python",
   "nbconvert_exporter": "python",
   "pygments_lexer": "ipython3",
   "version": "3.12.0"
  }
 },
 "nbformat": 4,
 "nbformat_minor": 2
}
