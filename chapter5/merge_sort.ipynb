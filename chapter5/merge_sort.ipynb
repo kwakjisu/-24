{
 "cells": [
  {
   "cell_type": "markdown",
   "metadata": {},
   "source": [
    "예제1. 병합정렬\n",
    "============"
   ]
  },
  {
   "cell_type": "markdown",
   "metadata": {},
   "source": [
    "- 알고리즘 5.1 병합정렬\n",
    "- 알고리즘 5.2 병합 알고리즘"
   ]
  },
  {
   "cell_type": "markdown",
   "metadata": {},
   "source": [
    "### 1.1 문제 정의"
   ]
  },
  {
   "cell_type": "markdown",
   "metadata": {},
   "source": [
    "하나의 리스트를 같은 크기의 두 개의 부분 리스트로 분할한 후, 두 리스트를 병합한다."
   ]
  },
  {
   "cell_type": "markdown",
   "metadata": {},
   "source": [
    "### 1.2 알고리즘 설명"
   ]
  },
  {
   "cell_type": "markdown",
   "metadata": {},
   "source": [
    "* 하나의 리스크를 같은 크기의 두 개의 부분 리스트로 분할한 후, 정렬된 부분 리스트들을 하나의 배열에 통합한다.\n",
    "* 병합 정렬 처리과정\n",
    "1. 분할: 입력 리스트를 같은 크기의 2개의 부분 리스트로 분할한다.\n",
    "2. 정복: 부분리스트를 정렬한다. 이때, 부분 리스트의 크기가 충분히 작지 ㅇ낳으면 순환 호출을 이용하여 다시 분할 정복 키법을 사용한다. 리스트의 크기가 1이면 이미 정복 된 것이다."
   ]
  },
  {
   "cell_type": "markdown",
   "metadata": {},
   "source": [
    "### 1.3 손으로 푼 예제"
   ]
  },
  {
   "cell_type": "markdown",
   "metadata": {},
   "source": [
    "### 1.4 코드 설명"
   ]
  },
  {
   "cell_type": "markdown",
   "metadata": {},
   "source": [
    "* 입력 변수: 정렬되지 않은 리스트\n",
    "* 출력 변수: 오름차순으로 정렬된 리스트\n",
    "* 함수 설명: merge_sort(A, left, right), merge(A, left, mid, right)\n",
    "1. 각각 정렬된 왼쪽 부분 리스트 A[left, mid]롸 오른쪽 부분 리스트 A[mid+1, right]로 병합하는 함수이다.\n",
    "2. 한 쪽의 부분 리스트에 남아있는 모든 레코드를 임시 리스트로 일괄 복사한다.\n",
    "3. 정렬할 항목이 2개 이상인 경우에 대해서만 분할-정복을 진행한다. 항목이 1개일 경우에는 이미 정복된 것이다.\n",
    "4. 왼쪽 부분 리스트와 오른쪽 부분 리스트를 각각 독립적으로 병합 정렬한다.\n",
    "5. 정렬된 두 리스트를 병합한다."
   ]
  },
  {
   "cell_type": "markdown",
   "metadata": {},
   "source": [
    "### 1.5 알고리즘 코드"
   ]
  },
  {
   "cell_type": "code",
   "execution_count": 25,
   "metadata": {},
   "outputs": [],
   "source": [
    "def merge(A, left, mid, right):\n",
    "    k = left\n",
    "    i = left\n",
    "    j = mid + 1\n",
    "    while i<= mid and j<=right:\n",
    "        if A[i]<=A[j]:\n",
    "            sorted[k] = A[i]\n",
    "            i, k = i+1, k+1\n",
    "        else:\n",
    "            sorted[k] = A[j]\n",
    "            j, k = j+1, k+1\n",
    "            \n",
    "    if i> mid:\n",
    "        sorted[k:k+right-j+1] = A[j:right+1]\n",
    "    else:\n",
    "        sorted[k:k+mid-i+1] = A[i:mid+1]\n",
    "        \n",
    "    A[left:right+1] = sorted[left:right+1]\n",
    "    \n",
    "def merge_sort(A,left,right):\n",
    "    if left<right:\n",
    "        mid = (left+right)//2\n",
    "        merge_sort(A, left, mid)\n",
    "        merge_sort(A, mid+1, right)\n",
    "        merge(A, left, mid, right)"
   ]
  },
  {
   "cell_type": "markdown",
   "metadata": {},
   "source": [
    "### 1.6 테스트 코드"
   ]
  },
  {
   "cell_type": "code",
   "execution_count": 26,
   "metadata": {},
   "outputs": [
    {
     "name": "stdout",
     "output_type": "stream",
     "text": [
      "Original :  [1, 7, 3, 4, 2, 9, 5, 8, 6]\n",
      "MergeSort :  [1, 2, 3, 4, 5, 6, 7, 8, 9]\n"
     ]
    }
   ],
   "source": [
    "data=[1, 7, 3, 4, 2, 9, 5, 8, 6]\n",
    "sorted = [0]*len(data)\n",
    "print(\"Original : \", data)\n",
    "merge_sort(data, 0, len(data)-1)\n",
    "print(\"MergeSort : \", data)"
   ]
  },
  {
   "cell_type": "markdown",
   "metadata": {},
   "source": [
    "### 1.7 실행 결과"
   ]
  },
  {
   "attachments": {
    "image.png": {
     "image/png": "[encoded data removed]"
    }
   },
   "cell_type": "markdown",
   "metadata": {},
   "source": [
    "![image.png](attachment:image.png)"
   ]
  },
  {
   "cell_type": "markdown",
   "metadata": {},
   "source": [
    "### 1.8 복잡도 분석"
   ]
  },
  {
   "cell_type": "markdown",
   "metadata": {},
   "source": [
    "복잡도 함수는 $ T(n)=2T9n/20+n-1=2^{k}T(n/2^k)+kn-(2^{k}-1) $ 이다."
   ]
  },
  {
   "cell_type": "markdown",
   "metadata": {},
   "source": [
    "입력의 크기가 $ n = 2^{k} $라면\n",
    "$ T(n)=nT(1)+n log_{2} {n}-(n-1) \\in O(n log_{2} {n})$ "
   ]
  }
 ],
 "metadata": {
  "kernelspec": {
   "display_name": "Python 3",
   "language": "python",
   "name": "python3"
  },
  "language_info": {
   "codemirror_mode": {
    "name": "ipython",
    "version": 3
   },
   "file_extension": ".py",
   "mimetype": "text/x-python",
   "name": "python",
   "nbconvert_exporter": "python",
   "pygments_lexer": "ipython3",
   "version": "3.12.0"
  }
 },
 "nbformat": 4,
 "nbformat_minor": 2
}
